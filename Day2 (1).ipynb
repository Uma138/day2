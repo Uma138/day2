{
 "cells": [
  {
   "cell_type": "code",
   "execution_count": 3,
   "id": "4fc3757d-6c76-45b4-8040-01799310caa5",
   "metadata": {},
   "outputs": [
    {
     "name": "stdout",
     "output_type": "stream",
     "text": [
      "hi students\n",
      "ïndia\n"
     ]
    }
   ],
   "source": [
    "num=99\n",
    "if (99>0):\n",
    "    print(\"hi students\")\n",
    "    print(\"ïndia\")"
   ]
  },
  {
   "cell_type": "code",
   "execution_count": 17,
   "id": "57f6d63e-77e0-4dde-b619-84e8e69e5114",
   "metadata": {},
   "outputs": [
    {
     "name": "stdin",
     "output_type": "stream",
     "text": [
      "enter the age: 90\n"
     ]
    },
    {
     "name": "stdout",
     "output_type": "stream",
     "text": [
      "eligible\n"
     ]
    }
   ],
   "source": [
    "\n",
    "person=int(input(\"enter the age:\"))\n",
    "limit=18\n",
    "if person>=limit:\n",
    "    print(\"eligible\")"
   ]
  },
  {
   "cell_type": "code",
   "execution_count": 23,
   "id": "9f7e23a7-f8f5-4813-a75b-f212a33cdd6d",
   "metadata": {},
   "outputs": [
    {
     "name": "stdin",
     "output_type": "stream",
     "text": [
      "enter the marks 88\n"
     ]
    },
    {
     "name": "stdout",
     "output_type": "stream",
     "text": [
      "pass\n"
     ]
    }
   ],
   "source": [
    "person=int(input(\"enter the marks\"))\n",
    "inter=40\n",
    "if person>=limit:\n",
    "    print(\"pass\")\n",
    "else:\n",
    "    print(\"fail\")"
   ]
  },
  {
   "cell_type": "code",
   "execution_count": 27,
   "id": "22fdc343-8737-4bbc-ae45-78a8ce8f1a80",
   "metadata": {},
   "outputs": [
    {
     "name": "stdin",
     "output_type": "stream",
     "text": [
      "enter the number 4\n"
     ]
    },
    {
     "name": "stdout",
     "output_type": "stream",
     "text": [
      "4 even number\n",
      " after condition exit\n"
     ]
    }
   ],
   "source": [
    "'''even'''\n",
    "n=int(input(\"enter the number\"))\n",
    "if n%2==0:\n",
    "    print(n,\"even number\")\n",
    "    print(\" after condition exit\")"
   ]
  },
  {
   "cell_type": "code",
   "execution_count": 29,
   "id": "faa09b5b-d453-4bed-8308-8e4a259a6cda",
   "metadata": {},
   "outputs": [
    {
     "name": "stdin",
     "output_type": "stream",
     "text": [
      "enter the number 9\n"
     ]
    },
    {
     "name": "stdout",
     "output_type": "stream",
     "text": [
      "9 odd number\n"
     ]
    }
   ],
   "source": [
    "'''odd'''\n",
    "n=int(input(\"enter the number\"))\n",
    "if n%2==1:\n",
    "    print(n,\"odd number\")"
   ]
  },
  {
   "cell_type": "code",
   "execution_count": 37,
   "id": "e92a665f-b1d1-4307-aa98-ac3299ed47d8",
   "metadata": {},
   "outputs": [
    {
     "name": "stdin",
     "output_type": "stream",
     "text": [
      "press any key: U\n"
     ]
    },
    {
     "name": "stdout",
     "output_type": "stream",
     "text": [
      "the user has entered character\n",
      "the user has entered upper\n"
     ]
    }
   ],
   "source": [
    "'''program to determine the character enterd by a user,whether it is an aplhabet,upper,lower,digit or space by using seperate if condition and predefined string functions'''\n",
    "char=input(\"press any key:\")\n",
    "if char.isalpha():\n",
    "    print(\"the user has entered character\")\n",
    "if char.isdigit():\n",
    "   print(\"the user has entered digit\")\n",
    "if char.isspace():\n",
    "   print(\"the user has entered space\")\n",
    "if char.isupper():\n",
    "       print(\"the user has entered upper\")\n",
    "if char.islower():\n",
    "   print(\"the user has entered lower\")\n"
   ]
  },
  {
   "cell_type": "code",
   "execution_count": 39,
   "id": "dd9cba17-deb4-4f38-9817-bb52161805a8",
   "metadata": {},
   "outputs": [
    {
     "name": "stdin",
     "output_type": "stream",
     "text": [
      "enter the age: 7\n"
     ]
    },
    {
     "name": "stdout",
     "output_type": "stream",
     "text": [
      "under aged\n"
     ]
    }
   ],
   "source": [
    "\n",
    "person=int(input(\"enter the age:\"))\n",
    "limit=18\n",
    "if person>=limit:\n",
    "    print(\"eligible\")\n",
    "else:\n",
    "    print(\"under aged\")"
   ]
  },
  {
   "cell_type": "code",
   "execution_count": 77,
   "id": "f7c3ca7e-1e17-4443-ab52-2f41d9a69827",
   "metadata": {},
   "outputs": [
    {
     "name": "stdin",
     "output_type": "stream",
     "text": [
      "enter the number 99\n",
      "enter the number -9\n"
     ]
    },
    {
     "name": "stdout",
     "output_type": "stream",
     "text": [
      "small number is -9\n"
     ]
    }
   ],
   "source": [
    "'''finding smallest number'''\n",
    "a=int(input(\"enter the number\"))\n",
    "b=int(input(\"enter the number\"))\n",
    "if a<b:\n",
    "   small=a\n",
    "else:\n",
    "   small=b\n",
    "print(\"small number is\",small)"
   ]
  },
  {
   "cell_type": "code",
   "execution_count": 79,
   "id": "42b71f20-1109-424e-96e3-a57ecbd69209",
   "metadata": {},
   "outputs": [
    {
     "name": "stdin",
     "output_type": "stream",
     "text": [
      "enter any character from a-z u\n"
     ]
    },
    {
     "name": "stdout",
     "output_type": "stream",
     "text": [
      "converted case of input char: U\n"
     ]
    }
   ],
   "source": [
    "ch=input(\"enter any character from a-z\")\n",
    "if ch>='A' and ch<='Z':\n",
    "    ch=ch.lower()\n",
    "    print(\"converted case of input char:\",ch)\n",
    "else:\n",
    "    ch=ch.upper()\n",
    "    print(\"converted case of input char:\",ch)"
   ]
  },
  {
   "cell_type": "code",
   "execution_count": 83,
   "id": "04cb22f4-1a8a-48d7-bf65-48d146a58b5e",
   "metadata": {},
   "outputs": [
    {
     "name": "stdin",
     "output_type": "stream",
     "text": [
      "enter any character from a-z K\n"
     ]
    },
    {
     "name": "stdout",
     "output_type": "stream",
     "text": [
      "converted case of input char: k\n"
     ]
    }
   ],
   "source": [
    "'''converting upper to lower and lower to upper'''\n",
    "ch=input(\"enter any character from a-z\")\n",
    "if ch>='a' and ch<='z':\n",
    "    ch=ch.upper()\n",
    "    print(\"converted case of input char:\",ch)\n",
    "else:\n",
    "    ch=ch.lower()\n",
    "    print(\"converted case of input char:\",ch)"
   ]
  },
  {
   "cell_type": "code",
   "execution_count": 102,
   "id": "c3bb2ad5-cc4f-4893-ab73-7ebb3e7b1852",
   "metadata": {},
   "outputs": [
    {
     "name": "stdin",
     "output_type": "stream",
     "text": [
      "enter the year 2005\n"
     ]
    },
    {
     "name": "stdout",
     "output_type": "stream",
     "text": [
      "2005 y is not leap year\n"
     ]
    }
   ],
   "source": [
    "'''check whether the given input is a leap year for 4 years and centurians by if-else'''\n",
    "y=int(input(\"enter the year\"))\n",
    "if y%4==0 or y%100==0 or y%400==0:\n",
    "    print(y,\"y is leap year\")\n",
    "else:\n",
    "    print(y,\"y is not leap year\")"
   ]
  },
  {
   "cell_type": "code",
   "execution_count": 104,
   "id": "3a3688e7-0a34-426d-b18a-2914ddc99f85",
   "metadata": {},
   "outputs": [
    {
     "name": "stdin",
     "output_type": "stream",
     "text": [
      "enter the numbers: 6\n"
     ]
    },
    {
     "name": "stdout",
     "output_type": "stream",
     "text": [
      "positive numbers\n"
     ]
    }
   ],
   "source": [
    "'''write a program to check whether the given number is a positive,negative or a zero'''\n",
    "num=int(input(\"enter the numbers:\"))\n",
    "if num==0:\n",
    "    print(\"zero entered\")\n",
    "elif num>0:\n",
    "    print(\"positive numbers\")\n",
    "else:\n",
    "    print(\"negative\")"
   ]
  },
  {
   "cell_type": "code",
   "execution_count": 108,
   "id": "fae82f4c-889c-4531-88ac-8d52d4014984",
   "metadata": {},
   "outputs": [
    {
     "name": "stdin",
     "output_type": "stream",
     "text": [
      "enter the number between 1-7: 4\n"
     ]
    },
    {
     "name": "stdout",
     "output_type": "stream",
     "text": [
      "thursday\n"
     ]
    }
   ],
   "source": [
    "''' print whether the given day from 1 to 7 represents its day '''\n",
    "num=int(input(\"enter the number between 1-7:\"))\n",
    "if num==1:print(\"sunday\")\n",
    "elif num==2:print(\"monday\")\n",
    "elif num==2:print(\"tuesday\")\n",
    "elif num==3:print(\"wednesday\")\n",
    "elif num==4:print(\"thursday\")\n",
    "elif num==5:print(\"friday\")\n",
    "elif num==6:print(\"saturday\")\n",
    "else:print(\"wrong input\")"
   ]
  },
  {
   "cell_type": "code",
   "execution_count": 110,
   "id": "08773253-7963-413f-a4c4-00d17e07d5cf",
   "metadata": {},
   "outputs": [
    {
     "name": "stdin",
     "output_type": "stream",
     "text": [
      "enter a char from a->z e\n"
     ]
    },
    {
     "name": "stdout",
     "output_type": "stream",
     "text": [
      "e is a vowel\n"
     ]
    }
   ],
   "source": [
    "''' write a progam to find the entered character is a vowel or a consonent,while user input could be either upper or lower case using if -else-else'''\n",
    "ch=input(\"enter a char from a->z\")\n",
    "if ch=='a' or ch=='e' or ch=='i' or ch=='o' or ch=='u':\n",
    "    print(ch,\"is a vowel\")\n",
    "elif ch=='A' or ch=='E' or ch=='I' or ch=='O' or ch=='U':\n",
    "    print(ch,\"is a vowel\")\n",
    "else:\n",
    "    print(ch,\"is a consonent\")\n",
    "    \n"
   ]
  },
  {
   "cell_type": "code",
   "execution_count": null,
   "id": "0c620986-d185-4619-b331-984a9ca47924",
   "metadata": {},
   "outputs": [],
   "source": []
  }
 ],
 "metadata": {
  "kernelspec": {
   "display_name": "Python [conda env:base] *",
   "language": "python",
   "name": "conda-base-py"
  },
  "language_info": {
   "codemirror_mode": {
    "name": "ipython",
    "version": 3
   },
   "file_extension": ".py",
   "mimetype": "text/x-python",
   "name": "python",
   "nbconvert_exporter": "python",
   "pygments_lexer": "ipython3",
   "version": "3.12.7"
  }
 },
 "nbformat": 4,
 "nbformat_minor": 5
}
